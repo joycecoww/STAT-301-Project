{
 "cells": [
  {
   "cell_type": "code",
   "execution_count": 1,
   "id": "7208823c-a2d4-4d3a-9677-557376e71011",
   "metadata": {},
   "outputs": [
    {
     "name": "stderr",
     "output_type": "stream",
     "text": [
      "── \u001b[1mAttaching core tidyverse packages\u001b[22m ──────────────────────── tidyverse 2.0.0 ──\n",
      "\u001b[32m✔\u001b[39m \u001b[34mdplyr    \u001b[39m 1.1.4     \u001b[32m✔\u001b[39m \u001b[34mreadr    \u001b[39m 2.1.5\n",
      "\u001b[32m✔\u001b[39m \u001b[34mforcats  \u001b[39m 1.0.0     \u001b[32m✔\u001b[39m \u001b[34mstringr  \u001b[39m 1.5.1\n",
      "\u001b[32m✔\u001b[39m \u001b[34mggplot2  \u001b[39m 3.5.1     \u001b[32m✔\u001b[39m \u001b[34mtibble   \u001b[39m 3.2.1\n",
      "\u001b[32m✔\u001b[39m \u001b[34mlubridate\u001b[39m 1.9.3     \u001b[32m✔\u001b[39m \u001b[34mtidyr    \u001b[39m 1.3.1\n",
      "\u001b[32m✔\u001b[39m \u001b[34mpurrr    \u001b[39m 1.0.2     \n",
      "── \u001b[1mConflicts\u001b[22m ────────────────────────────────────────── tidyverse_conflicts() ──\n",
      "\u001b[31m✖\u001b[39m \u001b[34mdplyr\u001b[39m::\u001b[32mfilter()\u001b[39m masks \u001b[34mstats\u001b[39m::filter()\n",
      "\u001b[31m✖\u001b[39m \u001b[34mdplyr\u001b[39m::\u001b[32mlag()\u001b[39m    masks \u001b[34mstats\u001b[39m::lag()\n",
      "\u001b[36mℹ\u001b[39m Use the conflicted package (\u001b[3m\u001b[34m<http://conflicted.r-lib.org/>\u001b[39m\u001b[23m) to force all conflicts to become errors\n",
      "\n",
      "Attaching package: ‘MASS’\n",
      "\n",
      "\n",
      "The following object is masked from ‘package:dplyr’:\n",
      "\n",
      "    select\n",
      "\n",
      "\n"
     ]
    }
   ],
   "source": [
    "# Load Packages\n",
    "library(tidyverse)\n",
    "library(broom)\n",
    "library(leaps)\n",
    "library(MASS)\n",
    "library(rsample)\n",
    "\n",
    "set.seed(999)"
   ]
  },
  {
   "cell_type": "code",
   "execution_count": 2,
   "id": "7f2717d8-e15e-43ee-a66d-46d548ba7d05",
   "metadata": {},
   "outputs": [
    {
     "name": "stderr",
     "output_type": "stream",
     "text": [
      "\u001b[1mRows: \u001b[22m\u001b[34m13058\u001b[39m \u001b[1mColumns: \u001b[22m\u001b[34m21\u001b[39m\n",
      "\u001b[36m──\u001b[39m \u001b[1mColumn specification\u001b[22m \u001b[36m────────────────────────────────────────────────────────\u001b[39m\n",
      "\u001b[1mDelimiter:\u001b[22m \",\"\n",
      "\u001b[31mchr\u001b[39m  (3): room_type, city, day_type\n",
      "\u001b[32mdbl\u001b[39m (15): realSum, person_capacity, multi, biz, cleanliness_rating, guest_sa...\n",
      "\u001b[33mlgl\u001b[39m  (3): room_shared, room_private, host_is_superhost\n",
      "\n",
      "\u001b[36mℹ\u001b[39m Use `spec()` to retrieve the full column specification for this data.\n",
      "\u001b[36mℹ\u001b[39m Specify the column types or set `show_col_types = FALSE` to quiet this message.\n"
     ]
    },
    {
     "data": {
      "text/html": [
       "<table class=\"dataframe\">\n",
       "<caption>A tibble: 6 × 21</caption>\n",
       "<thead>\n",
       "\t<tr><th scope=col>realSum</th><th scope=col>room_type</th><th scope=col>room_shared</th><th scope=col>room_private</th><th scope=col>person_capacity</th><th scope=col>host_is_superhost</th><th scope=col>multi</th><th scope=col>biz</th><th scope=col>cleanliness_rating</th><th scope=col>guest_satisfaction_overall</th><th scope=col>⋯</th><th scope=col>dist</th><th scope=col>metro_dist</th><th scope=col>attr_index</th><th scope=col>attr_index_norm</th><th scope=col>rest_index</th><th scope=col>rest_index_norm</th><th scope=col>lng</th><th scope=col>lat</th><th scope=col>city</th><th scope=col>day_type</th></tr>\n",
       "\t<tr><th scope=col>&lt;dbl&gt;</th><th scope=col>&lt;chr&gt;</th><th scope=col>&lt;lgl&gt;</th><th scope=col>&lt;lgl&gt;</th><th scope=col>&lt;dbl&gt;</th><th scope=col>&lt;lgl&gt;</th><th scope=col>&lt;dbl&gt;</th><th scope=col>&lt;dbl&gt;</th><th scope=col>&lt;dbl&gt;</th><th scope=col>&lt;dbl&gt;</th><th scope=col>⋯</th><th scope=col>&lt;dbl&gt;</th><th scope=col>&lt;dbl&gt;</th><th scope=col>&lt;dbl&gt;</th><th scope=col>&lt;dbl&gt;</th><th scope=col>&lt;dbl&gt;</th><th scope=col>&lt;dbl&gt;</th><th scope=col>&lt;dbl&gt;</th><th scope=col>&lt;dbl&gt;</th><th scope=col>&lt;chr&gt;</th><th scope=col>&lt;chr&gt;</th></tr>\n",
       "</thead>\n",
       "<tbody>\n",
       "\t<tr><td>474.3175</td><td>Entire home/apt</td><td>FALSE</td><td>FALSE</td><td>4</td><td>FALSE</td><td>0</td><td>1</td><td>10</td><td> 91</td><td>⋯</td><td>1.111996</td><td>0.63049095</td><td>526.4694</td><td>17.94293</td><td>915.5871</td><td>20.15489</td><td>2.17556</td><td>41.39624</td><td>Barcelona</td><td>Weekday</td></tr>\n",
       "\t<tr><td>169.8978</td><td>Private room   </td><td>FALSE</td><td> TRUE</td><td>2</td><td> TRUE</td><td>1</td><td>0</td><td>10</td><td> 88</td><td>⋯</td><td>1.751839</td><td>0.12401717</td><td>320.1275</td><td>10.91046</td><td>794.2774</td><td>17.48449</td><td>2.14906</td><td>41.38714</td><td>Barcelona</td><td>Weekday</td></tr>\n",
       "\t<tr><td>161.9848</td><td>Private room   </td><td>FALSE</td><td> TRUE</td><td>4</td><td>FALSE</td><td>0</td><td>1</td><td> 9</td><td> 88</td><td>⋯</td><td>1.670493</td><td>0.08032198</td><td>344.0739</td><td>11.72659</td><td>840.6736</td><td>18.50581</td><td>2.15357</td><td>41.37859</td><td>Barcelona</td><td>Weekday</td></tr>\n",
       "\t<tr><td>367.9568</td><td>Entire home/apt</td><td>FALSE</td><td>FALSE</td><td>3</td><td>FALSE</td><td>0</td><td>1</td><td>10</td><td> 91</td><td>⋯</td><td>1.475847</td><td>0.09310686</td><td>400.0574</td><td>13.63460</td><td>946.5899</td><td>20.83736</td><td>2.16839</td><td>41.37390</td><td>Barcelona</td><td>Weekday</td></tr>\n",
       "\t<tr><td>196.8953</td><td>Private room   </td><td>FALSE</td><td> TRUE</td><td>3</td><td>FALSE</td><td>1</td><td>0</td><td> 9</td><td> 91</td><td>⋯</td><td>1.855452</td><td>0.27248605</td><td>346.0422</td><td>11.79368</td><td>792.2960</td><td>17.44087</td><td>2.15238</td><td>41.37699</td><td>Barcelona</td><td>Weekday</td></tr>\n",
       "\t<tr><td>330.9517</td><td>Entire home/apt</td><td>FALSE</td><td>FALSE</td><td>3</td><td>FALSE</td><td>0</td><td>1</td><td> 9</td><td>100</td><td>⋯</td><td>2.565611</td><td>0.70129045</td><td>391.0874</td><td>13.32889</td><td>525.5139</td><td>11.56818</td><td>2.18197</td><td>41.40842</td><td>Barcelona</td><td>Weekday</td></tr>\n",
       "</tbody>\n",
       "</table>\n"
      ],
      "text/latex": [
       "A tibble: 6 × 21\n",
       "\\begin{tabular}{lllllllllllllllllllll}\n",
       " realSum & room\\_type & room\\_shared & room\\_private & person\\_capacity & host\\_is\\_superhost & multi & biz & cleanliness\\_rating & guest\\_satisfaction\\_overall & ⋯ & dist & metro\\_dist & attr\\_index & attr\\_index\\_norm & rest\\_index & rest\\_index\\_norm & lng & lat & city & day\\_type\\\\\n",
       " <dbl> & <chr> & <lgl> & <lgl> & <dbl> & <lgl> & <dbl> & <dbl> & <dbl> & <dbl> & ⋯ & <dbl> & <dbl> & <dbl> & <dbl> & <dbl> & <dbl> & <dbl> & <dbl> & <chr> & <chr>\\\\\n",
       "\\hline\n",
       "\t 474.3175 & Entire home/apt & FALSE & FALSE & 4 & FALSE & 0 & 1 & 10 &  91 & ⋯ & 1.111996 & 0.63049095 & 526.4694 & 17.94293 & 915.5871 & 20.15489 & 2.17556 & 41.39624 & Barcelona & Weekday\\\\\n",
       "\t 169.8978 & Private room    & FALSE &  TRUE & 2 &  TRUE & 1 & 0 & 10 &  88 & ⋯ & 1.751839 & 0.12401717 & 320.1275 & 10.91046 & 794.2774 & 17.48449 & 2.14906 & 41.38714 & Barcelona & Weekday\\\\\n",
       "\t 161.9848 & Private room    & FALSE &  TRUE & 4 & FALSE & 0 & 1 &  9 &  88 & ⋯ & 1.670493 & 0.08032198 & 344.0739 & 11.72659 & 840.6736 & 18.50581 & 2.15357 & 41.37859 & Barcelona & Weekday\\\\\n",
       "\t 367.9568 & Entire home/apt & FALSE & FALSE & 3 & FALSE & 0 & 1 & 10 &  91 & ⋯ & 1.475847 & 0.09310686 & 400.0574 & 13.63460 & 946.5899 & 20.83736 & 2.16839 & 41.37390 & Barcelona & Weekday\\\\\n",
       "\t 196.8953 & Private room    & FALSE &  TRUE & 3 & FALSE & 1 & 0 &  9 &  91 & ⋯ & 1.855452 & 0.27248605 & 346.0422 & 11.79368 & 792.2960 & 17.44087 & 2.15238 & 41.37699 & Barcelona & Weekday\\\\\n",
       "\t 330.9517 & Entire home/apt & FALSE & FALSE & 3 & FALSE & 0 & 1 &  9 & 100 & ⋯ & 2.565611 & 0.70129045 & 391.0874 & 13.32889 & 525.5139 & 11.56818 & 2.18197 & 41.40842 & Barcelona & Weekday\\\\\n",
       "\\end{tabular}\n"
      ],
      "text/markdown": [
       "\n",
       "A tibble: 6 × 21\n",
       "\n",
       "| realSum &lt;dbl&gt; | room_type &lt;chr&gt; | room_shared &lt;lgl&gt; | room_private &lt;lgl&gt; | person_capacity &lt;dbl&gt; | host_is_superhost &lt;lgl&gt; | multi &lt;dbl&gt; | biz &lt;dbl&gt; | cleanliness_rating &lt;dbl&gt; | guest_satisfaction_overall &lt;dbl&gt; | ⋯ ⋯ | dist &lt;dbl&gt; | metro_dist &lt;dbl&gt; | attr_index &lt;dbl&gt; | attr_index_norm &lt;dbl&gt; | rest_index &lt;dbl&gt; | rest_index_norm &lt;dbl&gt; | lng &lt;dbl&gt; | lat &lt;dbl&gt; | city &lt;chr&gt; | day_type &lt;chr&gt; |\n",
       "|---|---|---|---|---|---|---|---|---|---|---|---|---|---|---|---|---|---|---|---|---|\n",
       "| 474.3175 | Entire home/apt | FALSE | FALSE | 4 | FALSE | 0 | 1 | 10 |  91 | ⋯ | 1.111996 | 0.63049095 | 526.4694 | 17.94293 | 915.5871 | 20.15489 | 2.17556 | 41.39624 | Barcelona | Weekday |\n",
       "| 169.8978 | Private room    | FALSE |  TRUE | 2 |  TRUE | 1 | 0 | 10 |  88 | ⋯ | 1.751839 | 0.12401717 | 320.1275 | 10.91046 | 794.2774 | 17.48449 | 2.14906 | 41.38714 | Barcelona | Weekday |\n",
       "| 161.9848 | Private room    | FALSE |  TRUE | 4 | FALSE | 0 | 1 |  9 |  88 | ⋯ | 1.670493 | 0.08032198 | 344.0739 | 11.72659 | 840.6736 | 18.50581 | 2.15357 | 41.37859 | Barcelona | Weekday |\n",
       "| 367.9568 | Entire home/apt | FALSE | FALSE | 3 | FALSE | 0 | 1 | 10 |  91 | ⋯ | 1.475847 | 0.09310686 | 400.0574 | 13.63460 | 946.5899 | 20.83736 | 2.16839 | 41.37390 | Barcelona | Weekday |\n",
       "| 196.8953 | Private room    | FALSE |  TRUE | 3 | FALSE | 1 | 0 |  9 |  91 | ⋯ | 1.855452 | 0.27248605 | 346.0422 | 11.79368 | 792.2960 | 17.44087 | 2.15238 | 41.37699 | Barcelona | Weekday |\n",
       "| 330.9517 | Entire home/apt | FALSE | FALSE | 3 | FALSE | 0 | 1 |  9 | 100 | ⋯ | 2.565611 | 0.70129045 | 391.0874 | 13.32889 | 525.5139 | 11.56818 | 2.18197 | 41.40842 | Barcelona | Weekday |\n",
       "\n"
      ],
      "text/plain": [
       "  realSum  room_type       room_shared room_private person_capacity\n",
       "1 474.3175 Entire home/apt FALSE       FALSE        4              \n",
       "2 169.8978 Private room    FALSE        TRUE        2              \n",
       "3 161.9848 Private room    FALSE        TRUE        4              \n",
       "4 367.9568 Entire home/apt FALSE       FALSE        3              \n",
       "5 196.8953 Private room    FALSE        TRUE        3              \n",
       "6 330.9517 Entire home/apt FALSE       FALSE        3              \n",
       "  host_is_superhost multi biz cleanliness_rating guest_satisfaction_overall ⋯\n",
       "1 FALSE             0     1   10                  91                        ⋯\n",
       "2  TRUE             1     0   10                  88                        ⋯\n",
       "3 FALSE             0     1    9                  88                        ⋯\n",
       "4 FALSE             0     1   10                  91                        ⋯\n",
       "5 FALSE             1     0    9                  91                        ⋯\n",
       "6 FALSE             0     1    9                 100                        ⋯\n",
       "  dist     metro_dist attr_index attr_index_norm rest_index rest_index_norm\n",
       "1 1.111996 0.63049095 526.4694   17.94293        915.5871   20.15489       \n",
       "2 1.751839 0.12401717 320.1275   10.91046        794.2774   17.48449       \n",
       "3 1.670493 0.08032198 344.0739   11.72659        840.6736   18.50581       \n",
       "4 1.475847 0.09310686 400.0574   13.63460        946.5899   20.83736       \n",
       "5 1.855452 0.27248605 346.0422   11.79368        792.2960   17.44087       \n",
       "6 2.565611 0.70129045 391.0874   13.32889        525.5139   11.56818       \n",
       "  lng     lat      city      day_type\n",
       "1 2.17556 41.39624 Barcelona Weekday \n",
       "2 2.14906 41.38714 Barcelona Weekday \n",
       "3 2.15357 41.37859 Barcelona Weekday \n",
       "4 2.16839 41.37390 Barcelona Weekday \n",
       "5 2.15238 41.37699 Barcelona Weekday \n",
       "6 2.18197 41.40842 Barcelona Weekday "
      ]
     },
     "metadata": {},
     "output_type": "display_data"
    }
   ],
   "source": [
    "# Load Data \n",
    "airbnb <- read_csv('airbnb.csv')\n",
    "head(airbnb)"
   ]
  },
  {
   "cell_type": "code",
   "execution_count": 3,
   "id": "e6bbed83-a3d7-4e26-8edd-1b01edc710c0",
   "metadata": {},
   "outputs": [
    {
     "data": {
      "text/html": [
       "<table class=\"dataframe\">\n",
       "<caption>A tibble: 6 × 13</caption>\n",
       "<thead>\n",
       "\t<tr><th scope=col>realSum</th><th scope=col>room_type</th><th scope=col>person_capacity</th><th scope=col>host_is_superhost</th><th scope=col>cleanliness_rating</th><th scope=col>guest_satisfaction_overall</th><th scope=col>bedrooms</th><th scope=col>dist</th><th scope=col>metro_dist</th><th scope=col>attr_index_norm</th><th scope=col>rest_index_norm</th><th scope=col>city</th><th scope=col>day_type</th></tr>\n",
       "\t<tr><th scope=col>&lt;dbl&gt;</th><th scope=col>&lt;chr&gt;</th><th scope=col>&lt;dbl&gt;</th><th scope=col>&lt;lgl&gt;</th><th scope=col>&lt;dbl&gt;</th><th scope=col>&lt;dbl&gt;</th><th scope=col>&lt;dbl&gt;</th><th scope=col>&lt;dbl&gt;</th><th scope=col>&lt;dbl&gt;</th><th scope=col>&lt;dbl&gt;</th><th scope=col>&lt;dbl&gt;</th><th scope=col>&lt;chr&gt;</th><th scope=col>&lt;chr&gt;</th></tr>\n",
       "</thead>\n",
       "<tbody>\n",
       "\t<tr><td>474.3175</td><td>Entire home/apt</td><td>4</td><td>FALSE</td><td>10</td><td> 91</td><td>1</td><td>1.111996</td><td>0.63049095</td><td>17.94293</td><td>20.15489</td><td>Barcelona</td><td>Weekday</td></tr>\n",
       "\t<tr><td>169.8978</td><td>Private room   </td><td>2</td><td> TRUE</td><td>10</td><td> 88</td><td>1</td><td>1.751839</td><td>0.12401717</td><td>10.91046</td><td>17.48449</td><td>Barcelona</td><td>Weekday</td></tr>\n",
       "\t<tr><td>161.9848</td><td>Private room   </td><td>4</td><td>FALSE</td><td> 9</td><td> 88</td><td>1</td><td>1.670493</td><td>0.08032198</td><td>11.72659</td><td>18.50581</td><td>Barcelona</td><td>Weekday</td></tr>\n",
       "\t<tr><td>367.9568</td><td>Entire home/apt</td><td>3</td><td>FALSE</td><td>10</td><td> 91</td><td>1</td><td>1.475847</td><td>0.09310686</td><td>13.63460</td><td>20.83736</td><td>Barcelona</td><td>Weekday</td></tr>\n",
       "\t<tr><td>196.8953</td><td>Private room   </td><td>3</td><td>FALSE</td><td> 9</td><td> 91</td><td>1</td><td>1.855452</td><td>0.27248605</td><td>11.79368</td><td>17.44087</td><td>Barcelona</td><td>Weekday</td></tr>\n",
       "\t<tr><td>330.9517</td><td>Entire home/apt</td><td>3</td><td>FALSE</td><td> 9</td><td>100</td><td>2</td><td>2.565611</td><td>0.70129045</td><td>13.32889</td><td>11.56818</td><td>Barcelona</td><td>Weekday</td></tr>\n",
       "</tbody>\n",
       "</table>\n"
      ],
      "text/latex": [
       "A tibble: 6 × 13\n",
       "\\begin{tabular}{lllllllllllll}\n",
       " realSum & room\\_type & person\\_capacity & host\\_is\\_superhost & cleanliness\\_rating & guest\\_satisfaction\\_overall & bedrooms & dist & metro\\_dist & attr\\_index\\_norm & rest\\_index\\_norm & city & day\\_type\\\\\n",
       " <dbl> & <chr> & <dbl> & <lgl> & <dbl> & <dbl> & <dbl> & <dbl> & <dbl> & <dbl> & <dbl> & <chr> & <chr>\\\\\n",
       "\\hline\n",
       "\t 474.3175 & Entire home/apt & 4 & FALSE & 10 &  91 & 1 & 1.111996 & 0.63049095 & 17.94293 & 20.15489 & Barcelona & Weekday\\\\\n",
       "\t 169.8978 & Private room    & 2 &  TRUE & 10 &  88 & 1 & 1.751839 & 0.12401717 & 10.91046 & 17.48449 & Barcelona & Weekday\\\\\n",
       "\t 161.9848 & Private room    & 4 & FALSE &  9 &  88 & 1 & 1.670493 & 0.08032198 & 11.72659 & 18.50581 & Barcelona & Weekday\\\\\n",
       "\t 367.9568 & Entire home/apt & 3 & FALSE & 10 &  91 & 1 & 1.475847 & 0.09310686 & 13.63460 & 20.83736 & Barcelona & Weekday\\\\\n",
       "\t 196.8953 & Private room    & 3 & FALSE &  9 &  91 & 1 & 1.855452 & 0.27248605 & 11.79368 & 17.44087 & Barcelona & Weekday\\\\\n",
       "\t 330.9517 & Entire home/apt & 3 & FALSE &  9 & 100 & 2 & 2.565611 & 0.70129045 & 13.32889 & 11.56818 & Barcelona & Weekday\\\\\n",
       "\\end{tabular}\n"
      ],
      "text/markdown": [
       "\n",
       "A tibble: 6 × 13\n",
       "\n",
       "| realSum &lt;dbl&gt; | room_type &lt;chr&gt; | person_capacity &lt;dbl&gt; | host_is_superhost &lt;lgl&gt; | cleanliness_rating &lt;dbl&gt; | guest_satisfaction_overall &lt;dbl&gt; | bedrooms &lt;dbl&gt; | dist &lt;dbl&gt; | metro_dist &lt;dbl&gt; | attr_index_norm &lt;dbl&gt; | rest_index_norm &lt;dbl&gt; | city &lt;chr&gt; | day_type &lt;chr&gt; |\n",
       "|---|---|---|---|---|---|---|---|---|---|---|---|---|\n",
       "| 474.3175 | Entire home/apt | 4 | FALSE | 10 |  91 | 1 | 1.111996 | 0.63049095 | 17.94293 | 20.15489 | Barcelona | Weekday |\n",
       "| 169.8978 | Private room    | 2 |  TRUE | 10 |  88 | 1 | 1.751839 | 0.12401717 | 10.91046 | 17.48449 | Barcelona | Weekday |\n",
       "| 161.9848 | Private room    | 4 | FALSE |  9 |  88 | 1 | 1.670493 | 0.08032198 | 11.72659 | 18.50581 | Barcelona | Weekday |\n",
       "| 367.9568 | Entire home/apt | 3 | FALSE | 10 |  91 | 1 | 1.475847 | 0.09310686 | 13.63460 | 20.83736 | Barcelona | Weekday |\n",
       "| 196.8953 | Private room    | 3 | FALSE |  9 |  91 | 1 | 1.855452 | 0.27248605 | 11.79368 | 17.44087 | Barcelona | Weekday |\n",
       "| 330.9517 | Entire home/apt | 3 | FALSE |  9 | 100 | 2 | 2.565611 | 0.70129045 | 13.32889 | 11.56818 | Barcelona | Weekday |\n",
       "\n"
      ],
      "text/plain": [
       "  realSum  room_type       person_capacity host_is_superhost cleanliness_rating\n",
       "1 474.3175 Entire home/apt 4               FALSE             10                \n",
       "2 169.8978 Private room    2                TRUE             10                \n",
       "3 161.9848 Private room    4               FALSE              9                \n",
       "4 367.9568 Entire home/apt 3               FALSE             10                \n",
       "5 196.8953 Private room    3               FALSE              9                \n",
       "6 330.9517 Entire home/apt 3               FALSE              9                \n",
       "  guest_satisfaction_overall bedrooms dist     metro_dist attr_index_norm\n",
       "1  91                        1        1.111996 0.63049095 17.94293       \n",
       "2  88                        1        1.751839 0.12401717 10.91046       \n",
       "3  88                        1        1.670493 0.08032198 11.72659       \n",
       "4  91                        1        1.475847 0.09310686 13.63460       \n",
       "5  91                        1        1.855452 0.27248605 11.79368       \n",
       "6 100                        2        2.565611 0.70129045 13.32889       \n",
       "  rest_index_norm city      day_type\n",
       "1 20.15489        Barcelona Weekday \n",
       "2 17.48449        Barcelona Weekday \n",
       "3 18.50581        Barcelona Weekday \n",
       "4 20.83736        Barcelona Weekday \n",
       "5 17.44087        Barcelona Weekday \n",
       "6 11.56818        Barcelona Weekday "
      ]
     },
     "metadata": {},
     "output_type": "display_data"
    }
   ],
   "source": [
    "# Select Relevant Variables\n",
    "airbnb_clean <- airbnb %>%\n",
    "    dplyr::select(\n",
    "        -room_shared,\n",
    "        -room_private,\n",
    "        -multi,\n",
    "        -biz,\n",
    "        -attr_index,\n",
    "        -rest_index,\n",
    "        -lng,\n",
    "        -lat\n",
    "    )\n",
    "head(airbnb_clean)"
   ]
  },
  {
   "cell_type": "code",
   "execution_count": 4,
   "id": "606f865d-a6e0-44eb-ae79-78c33a30e9f1",
   "metadata": {},
   "outputs": [],
   "source": [
    "# Full MLR Model\n",
    "airbnb_mlr <- lm(realSum ~ ., data = airbnb_clean)\n",
    "\n",
    "airbnb_mlr_results <- tidy(airbnb_mlr)\n",
    "# airbnb_mlr_results"
   ]
  },
  {
   "cell_type": "code",
   "execution_count": 5,
   "id": "ee245c15-9792-453f-855f-c6c0d7a8199f",
   "metadata": {},
   "outputs": [],
   "source": [
    "# Forward & Backward Selection\n",
    "airbnb_for_selection <- regsubsets(realSum ~ ., nvmax = 12, data = airbnb_clean, method = 'forward')\n",
    "airbnb_back_selection <- regsubsets(realSum ~ ., nvmax = 12, data = airbnb_clean, method = 'backward')\n",
    "\n",
    "airbnb_for_selection_summary <- summary(airbnb_for_selection)\n",
    "airbnb_back_selection_summary <- summary(airbnb_back_selection)\n",
    "\n",
    "# airbnb_for_selection_summary"
   ]
  },
  {
   "cell_type": "code",
   "execution_count": 6,
   "id": "3807e497-a134-4db8-8d7c-0342c92c88c4",
   "metadata": {},
   "outputs": [
    {
     "data": {
      "text/html": [
       "<style>\n",
       ".list-inline {list-style: none; margin:0; padding: 0}\n",
       ".list-inline>li {display: inline-block}\n",
       ".list-inline>li:not(:last-child)::after {content: \"\\00b7\"; padding: 0 .5ex}\n",
       "</style>\n",
       "<ol class=list-inline><li>'room_typePrivate room'</li><li>'room_typeShared room'</li><li>'person_capacity'</li><li>'cleanliness_rating'</li><li>'bedrooms'</li><li>'dist'</li><li>'metro_dist'</li><li>'attr_index_norm'</li><li>'rest_index_norm'</li><li>'cityParis'</li><li>'cityVienna'</li><li>'day_typeWeekend'</li></ol>\n"
      ],
      "text/latex": [
       "\\begin{enumerate*}\n",
       "\\item 'room\\_typePrivate room'\n",
       "\\item 'room\\_typeShared room'\n",
       "\\item 'person\\_capacity'\n",
       "\\item 'cleanliness\\_rating'\n",
       "\\item 'bedrooms'\n",
       "\\item 'dist'\n",
       "\\item 'metro\\_dist'\n",
       "\\item 'attr\\_index\\_norm'\n",
       "\\item 'rest\\_index\\_norm'\n",
       "\\item 'cityParis'\n",
       "\\item 'cityVienna'\n",
       "\\item 'day\\_typeWeekend'\n",
       "\\end{enumerate*}\n"
      ],
      "text/markdown": [
       "1. 'room_typePrivate room'\n",
       "2. 'room_typeShared room'\n",
       "3. 'person_capacity'\n",
       "4. 'cleanliness_rating'\n",
       "5. 'bedrooms'\n",
       "6. 'dist'\n",
       "7. 'metro_dist'\n",
       "8. 'attr_index_norm'\n",
       "9. 'rest_index_norm'\n",
       "10. 'cityParis'\n",
       "11. 'cityVienna'\n",
       "12. 'day_typeWeekend'\n",
       "\n",
       "\n"
      ],
      "text/plain": [
       " [1] \"room_typePrivate room\" \"room_typeShared room\"  \"person_capacity\"      \n",
       " [4] \"cleanliness_rating\"    \"bedrooms\"              \"dist\"                 \n",
       " [7] \"metro_dist\"            \"attr_index_norm\"       \"rest_index_norm\"      \n",
       "[10] \"cityParis\"             \"cityVienna\"            \"day_typeWeekend\"      "
      ]
     },
     "metadata": {},
     "output_type": "display_data"
    }
   ],
   "source": [
    "# Model Evaluation\n",
    "airbnb_for_selection_summary_df <- tibble(\n",
    "    n_input_variables = 1:12,\n",
    "    RSQ = airbnb_for_selection_summary$rsq,\n",
    "    RSS = airbnb_for_selection_summary$rss,\n",
    "    ADJ_R2 = airbnb_for_selection_summary$adjr2,\n",
    "    Cp = airbnb_for_selection_summary$cp,\n",
    "    BIC = airbnb_for_selection_summary$bic,\n",
    ")\n",
    "\n",
    "# Selected Variables\n",
    "adjr2_max = which.max(airbnb_for_selection_summary$adjr2)\n",
    "selected_var_adjr2 <- names(coef(airbnb_for_selection, adjr2_max))[-1]\n",
    "\n",
    "selected_var_adjr2"
   ]
  },
  {
   "cell_type": "code",
   "execution_count": 7,
   "id": "9700f1c3-3ab5-4d6f-b507-0a2163677086",
   "metadata": {},
   "outputs": [],
   "source": [
    "# Train/Test Split\n",
    "split_data <- initial_split(airbnb_clean, prop = 0.75)\n",
    "\n",
    "train <- training(split_data)\n",
    "test <- testing(split_data)"
   ]
  },
  {
   "cell_type": "code",
   "execution_count": 8,
   "id": "1039fa87-7d4e-4787-a048-aaa94e4001b0",
   "metadata": {},
   "outputs": [
    {
     "data": {
      "text/html": [
       "<table class=\"dataframe\">\n",
       "<caption>A tibble: 13 × 5</caption>\n",
       "<thead>\n",
       "\t<tr><th scope=col>term</th><th scope=col>estimate</th><th scope=col>std.error</th><th scope=col>statistic</th><th scope=col>p.value</th></tr>\n",
       "\t<tr><th scope=col>&lt;chr&gt;</th><th scope=col>&lt;dbl&gt;</th><th scope=col>&lt;dbl&gt;</th><th scope=col>&lt;dbl&gt;</th><th scope=col>&lt;dbl&gt;</th></tr>\n",
       "</thead>\n",
       "<tbody>\n",
       "\t<tr><td>(Intercept)          </td><td>-148.011219</td><td>36.1721302</td><td>-4.091858</td><td>4.313662e-05</td></tr>\n",
       "\t<tr><td>room_typePrivate room</td><td> -83.746729</td><td> 8.6814235</td><td>-9.646659</td><td>6.357707e-22</td></tr>\n",
       "\t<tr><td>room_typeShared room </td><td>-235.676451</td><td>34.0135311</td><td>-6.928903</td><td>4.508630e-12</td></tr>\n",
       "\t<tr><td>person_capacity      </td><td>  46.987402</td><td> 3.4712094</td><td>13.536320</td><td>2.248736e-41</td></tr>\n",
       "\t<tr><td>cleanliness_rating   </td><td>  12.332175</td><td> 3.3402191</td><td> 3.692026</td><td>2.236854e-04</td></tr>\n",
       "\t<tr><td>bedrooms             </td><td> 107.178143</td><td> 6.4194866</td><td>16.695750</td><td>1.002443e-61</td></tr>\n",
       "\t<tr><td>dist                 </td><td>   8.518565</td><td> 2.9149766</td><td> 2.922344</td><td>3.482029e-03</td></tr>\n",
       "\t<tr><td>metro_dist           </td><td> -13.327915</td><td>11.6710172</td><td>-1.141967</td><td>2.534958e-01</td></tr>\n",
       "\t<tr><td>attr_index_norm      </td><td>   4.520671</td><td> 0.6198898</td><td> 7.292701</td><td>3.273757e-13</td></tr>\n",
       "\t<tr><td>rest_index_norm      </td><td>   2.524601</td><td> 0.4349978</td><td> 5.803710</td><td>6.688112e-09</td></tr>\n",
       "\t<tr><td>cityParis            </td><td> -16.721028</td><td>15.6014797</td><td>-1.071759</td><td>2.838547e-01</td></tr>\n",
       "\t<tr><td>cityVienna           </td><td> -59.092761</td><td>11.1667042</td><td>-5.291871</td><td>1.236922e-07</td></tr>\n",
       "\t<tr><td>day_typeWeekend      </td><td>  17.349617</td><td> 6.8170812</td><td> 2.545021</td><td>1.094233e-02</td></tr>\n",
       "</tbody>\n",
       "</table>\n"
      ],
      "text/latex": [
       "A tibble: 13 × 5\n",
       "\\begin{tabular}{lllll}\n",
       " term & estimate & std.error & statistic & p.value\\\\\n",
       " <chr> & <dbl> & <dbl> & <dbl> & <dbl>\\\\\n",
       "\\hline\n",
       "\t (Intercept)           & -148.011219 & 36.1721302 & -4.091858 & 4.313662e-05\\\\\n",
       "\t room\\_typePrivate room &  -83.746729 &  8.6814235 & -9.646659 & 6.357707e-22\\\\\n",
       "\t room\\_typeShared room  & -235.676451 & 34.0135311 & -6.928903 & 4.508630e-12\\\\\n",
       "\t person\\_capacity       &   46.987402 &  3.4712094 & 13.536320 & 2.248736e-41\\\\\n",
       "\t cleanliness\\_rating    &   12.332175 &  3.3402191 &  3.692026 & 2.236854e-04\\\\\n",
       "\t bedrooms              &  107.178143 &  6.4194866 & 16.695750 & 1.002443e-61\\\\\n",
       "\t dist                  &    8.518565 &  2.9149766 &  2.922344 & 3.482029e-03\\\\\n",
       "\t metro\\_dist            &  -13.327915 & 11.6710172 & -1.141967 & 2.534958e-01\\\\\n",
       "\t attr\\_index\\_norm       &    4.520671 &  0.6198898 &  7.292701 & 3.273757e-13\\\\\n",
       "\t rest\\_index\\_norm       &    2.524601 &  0.4349978 &  5.803710 & 6.688112e-09\\\\\n",
       "\t cityParis             &  -16.721028 & 15.6014797 & -1.071759 & 2.838547e-01\\\\\n",
       "\t cityVienna            &  -59.092761 & 11.1667042 & -5.291871 & 1.236922e-07\\\\\n",
       "\t day\\_typeWeekend       &   17.349617 &  6.8170812 &  2.545021 & 1.094233e-02\\\\\n",
       "\\end{tabular}\n"
      ],
      "text/markdown": [
       "\n",
       "A tibble: 13 × 5\n",
       "\n",
       "| term &lt;chr&gt; | estimate &lt;dbl&gt; | std.error &lt;dbl&gt; | statistic &lt;dbl&gt; | p.value &lt;dbl&gt; |\n",
       "|---|---|---|---|---|\n",
       "| (Intercept)           | -148.011219 | 36.1721302 | -4.091858 | 4.313662e-05 |\n",
       "| room_typePrivate room |  -83.746729 |  8.6814235 | -9.646659 | 6.357707e-22 |\n",
       "| room_typeShared room  | -235.676451 | 34.0135311 | -6.928903 | 4.508630e-12 |\n",
       "| person_capacity       |   46.987402 |  3.4712094 | 13.536320 | 2.248736e-41 |\n",
       "| cleanliness_rating    |   12.332175 |  3.3402191 |  3.692026 | 2.236854e-04 |\n",
       "| bedrooms              |  107.178143 |  6.4194866 | 16.695750 | 1.002443e-61 |\n",
       "| dist                  |    8.518565 |  2.9149766 |  2.922344 | 3.482029e-03 |\n",
       "| metro_dist            |  -13.327915 | 11.6710172 | -1.141967 | 2.534958e-01 |\n",
       "| attr_index_norm       |    4.520671 |  0.6198898 |  7.292701 | 3.273757e-13 |\n",
       "| rest_index_norm       |    2.524601 |  0.4349978 |  5.803710 | 6.688112e-09 |\n",
       "| cityParis             |  -16.721028 | 15.6014797 | -1.071759 | 2.838547e-01 |\n",
       "| cityVienna            |  -59.092761 | 11.1667042 | -5.291871 | 1.236922e-07 |\n",
       "| day_typeWeekend       |   17.349617 |  6.8170812 |  2.545021 | 1.094233e-02 |\n",
       "\n"
      ],
      "text/plain": [
       "   term                  estimate    std.error  statistic p.value     \n",
       "1  (Intercept)           -148.011219 36.1721302 -4.091858 4.313662e-05\n",
       "2  room_typePrivate room  -83.746729  8.6814235 -9.646659 6.357707e-22\n",
       "3  room_typeShared room  -235.676451 34.0135311 -6.928903 4.508630e-12\n",
       "4  person_capacity         46.987402  3.4712094 13.536320 2.248736e-41\n",
       "5  cleanliness_rating      12.332175  3.3402191  3.692026 2.236854e-04\n",
       "6  bedrooms               107.178143  6.4194866 16.695750 1.002443e-61\n",
       "7  dist                     8.518565  2.9149766  2.922344 3.482029e-03\n",
       "8  metro_dist             -13.327915 11.6710172 -1.141967 2.534958e-01\n",
       "9  attr_index_norm          4.520671  0.6198898  7.292701 3.273757e-13\n",
       "10 rest_index_norm          2.524601  0.4349978  5.803710 6.688112e-09\n",
       "11 cityParis              -16.721028 15.6014797 -1.071759 2.838547e-01\n",
       "12 cityVienna             -59.092761 11.1667042 -5.291871 1.236922e-07\n",
       "13 day_typeWeekend         17.349617  6.8170812  2.545021 1.094233e-02"
      ]
     },
     "metadata": {},
     "output_type": "display_data"
    }
   ],
   "source": [
    "# Selected Predictive Model\n",
    "airbnb_mlr_predictor <- lm(\n",
    "    realSum ~ room_type + person_capacity + cleanliness_rating + \n",
    "    bedrooms + dist + metro_dist + attr_index_norm + rest_index_norm + \n",
    "    city + day_type, \n",
    "    data = train)\n",
    "\n",
    "tidy(airbnb_mlr_predictor)"
   ]
  },
  {
   "cell_type": "code",
   "execution_count": null,
   "id": "55aef335-3bf5-489d-807b-7f36f2990059",
   "metadata": {},
   "outputs": [],
   "source": []
  }
 ],
 "metadata": {
  "kernelspec": {
   "display_name": "R",
   "language": "R",
   "name": "ir"
  },
  "language_info": {
   "codemirror_mode": "r",
   "file_extension": ".r",
   "mimetype": "text/x-r-source",
   "name": "R",
   "pygments_lexer": "r",
   "version": "4.3.3"
  }
 },
 "nbformat": 4,
 "nbformat_minor": 5
}
